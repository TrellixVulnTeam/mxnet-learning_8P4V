{
 "cells": [
  {
   "cell_type": "code",
   "execution_count": 3,
   "metadata": {},
   "outputs": [],
   "source": [
    "%matplotlib inline\n",
    "import d2lzh as d2l\n",
    "from mxnet import gluon, init\n",
    "from mxnet.gluon import loss as gloss, nn"
   ]
  },
  {
   "cell_type": "code",
   "execution_count": 4,
   "metadata": {},
   "outputs": [],
   "source": [
    "def get_data(iBatchSize=256):\n",
    "    train_iter, test_iter = d2l.load_data_fashion_mnist(iBatchSize)\n",
    "    return train_iter, test_iter"
   ]
  },
  {
   "cell_type": "code",
   "execution_count": 12,
   "metadata": {},
   "outputs": [],
   "source": [
    "def main():\n",
    "    iBatchSize = 256\n",
    "    train_iter, test_iter = get_data(iBatchSize)\n",
    "    net = nn.Sequential()\n",
    "    net.add(nn.Dense(10))\n",
    "    net.initialize(init.Normal(sigma=0.01))\n",
    "    loss = gloss.SoftmaxCrossEntropyLoss()\n",
    "    trainer = gluon.Trainer(net.collect_params(), \"sgd\", {\"learning_rate\": 0.1})\n",
    "    iNumEpochs = 5\n",
    "    d2l.train_ch3(net, train_iter, test_iter, loss, iNumEpochs, iBatchSize, None, None, trainer)"
   ]
  },
  {
   "cell_type": "code",
   "execution_count": 13,
   "metadata": {},
   "outputs": [
    {
     "name": "stdout",
     "output_type": "stream",
     "text": [
      "epoch 1, loss 0.7900, train acc 0.747, test acc 0.806\n",
      "epoch 2, loss 0.5736, train acc 0.811, test acc 0.811\n",
      "epoch 3, loss 0.5280, train acc 0.825, test acc 0.831\n",
      "epoch 4, loss 0.5048, train acc 0.830, test acc 0.835\n",
      "epoch 5, loss 0.4892, train acc 0.834, test acc 0.840\n"
     ]
    }
   ],
   "source": [
    "if __name__ == \"__main__\":\n",
    "    main()"
   ]
  },
  {
   "cell_type": "code",
   "execution_count": null,
   "metadata": {},
   "outputs": [],
   "source": []
  }
 ],
 "metadata": {
  "kernelspec": {
   "display_name": "mxnet",
   "language": "python",
   "name": "mxnet"
  },
  "language_info": {
   "codemirror_mode": {
    "name": "ipython",
    "version": 3
   },
   "file_extension": ".py",
   "mimetype": "text/x-python",
   "name": "python",
   "nbconvert_exporter": "python",
   "pygments_lexer": "ipython3",
   "version": "3.7.0"
  }
 },
 "nbformat": 4,
 "nbformat_minor": 2
}
